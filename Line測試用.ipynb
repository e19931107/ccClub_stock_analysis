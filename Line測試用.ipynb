{
 "cells": [
  {
   "cell_type": "code",
   "execution_count": 7,
   "metadata": {},
   "outputs": [
    {
     "name": "stderr",
     "output_type": "stream",
     "text": [
      "C:\\Users\\e1993\\AppData\\Local\\Temp\\ipykernel_15464\\2449131939.py:17: LineBotSdkDeprecatedIn30: Call to deprecated class LineBotApi. (Use v3 class; linebot.v3.<feature>. See https://github.com/line/line-bot-sdk-python/blob/master/README.rst for more details.) -- Deprecated since version 3.0.0.\n",
      "  line_bot_api = LineBotApi('IZsto4Q2DbF+Z8AI8rbZpIdJD3F2Gwj49GhfSAH8dSux8IbdDnzZjSwKdrh3H408Qp/+D5Qyud13dDoMFtHiUGLC2iDfO2EjwX7l6+4hno0YkTrADTCdzFTeAUE/P8gNlmTkc6qG+mWrQabF9M4KUAdB04t89/1O/w1cDnyilFU=')\n",
      "C:\\Users\\e1993\\AppData\\Local\\Temp\\ipykernel_15464\\2449131939.py:18: LineBotSdkDeprecatedIn30: Call to deprecated class WebhookHandler. (Use 'from linebot.v3.webhook import WebhookHandler' instead. See https://github.com/line/line-bot-sdk-python/blob/master/README.rst for more details.) -- Deprecated since version 3.0.0.\n",
      "  handler = WebhookHandler('fbaae0bc1da0740e63b02f6cee11055c')\n"
     ]
    }
   ],
   "source": [
    "from flask import Flask, request, abort\n",
    "\n",
    "from linebot import (\n",
    "    LineBotApi, WebhookHandler\n",
    ")\n",
    "\n",
    "from linebot.exceptions import (\n",
    "    InvalidSignatureError\n",
    ")\n",
    "\n",
    "from linebot.models import *\n",
    "\n",
    "app = Flask(__name__)\n",
    "\n",
    "# 必須放上自己的Channel Access Token\n",
    "line_bot_api = LineBotApi('IZsto4Q2DbF+Z8AI8rbZpIdJD3F2Gwj49GhfSAH8dSux8IbdDnzZjSwKdrh3H408Qp/+D5Qyud13dDoMFtHiUGLC2iDfO2EjwX7l6+4hno0YkTrADTCdzFTeAUE/P8gNlmTkc6qG+mWrQabF9M4KUAdB04t89/1O/w1cDnyilFU=')\n",
    "# 必須放上自己的Channel Secret\n",
    "handler = WebhookHandler('fbaae0bc1da0740e63b02f6cee11055c')\n",
    "\n",
    "line_bot_api.push_message('violin2th', TextSendMessage(text='你可以開始了'))\n",
    "\n",
    "# 監聽所有來自 /callback 的 Post Request\n",
    "@app.route(\"/callback\", methods=['POST'])\n",
    "def callback():\n",
    "    # get X-Line-Signature header value\n",
    "    signature = request.headers['X-Line-Signature']\n",
    "\n",
    "    # get request body as text\n",
    "    body = request.get_data(as_text=True)\n",
    "    app.logger.info(\"Request body: \" + body)\n",
    "\n",
    "    # handle webhook body\n",
    "    try:\n",
    "        handler.handle(body, signature)\n",
    "    except InvalidSignatureError:\n",
    "        abort(400)\n",
    "\n",
    "    return 'OK'\n",
    "\n",
    "\n",
    "#訊息傳遞區塊\n",
    "##### 基本上程式編輯都在這個function #####\n",
    "@handler.add(MessageEvent, message=TextMessage)\n",
    "def handle_message(event):\n",
    "    message = TextSendMessage(text=event.message.text)\n",
    "    line_bot_api.reply_message(event.reply_token,message)\n",
    "\n",
    "#主程式\n",
    "import os\n",
    "if __name__ == \"__main__\":\n",
    "    port = int(os.environ.get('PORT', 5000))\n",
    "    app.run(host='0.0.0.0', port=port)\n"
   ]
  }
 ],
 "metadata": {
  "kernelspec": {
   "display_name": "Python 3",
   "language": "python",
   "name": "python3"
  },
  "language_info": {
   "codemirror_mode": {
    "name": "ipython",
    "version": 3
   },
   "file_extension": ".py",
   "mimetype": "text/x-python",
   "name": "python",
   "nbconvert_exporter": "python",
   "pygments_lexer": "ipython3",
   "version": "3.12.0"
  }
 },
 "nbformat": 4,
 "nbformat_minor": 2
}
