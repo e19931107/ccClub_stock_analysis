{
 "cells": [
  {
   "cell_type": "code",
   "execution_count": 2,
   "metadata": {},
   "outputs": [
    {
     "name": "stderr",
     "output_type": "stream",
     "text": [
      "/Users/edward/Library/CloudStorage/OneDrive-Personal/GitHub/ccClub/Project/Testmodule/綜合損益表.py:11: FutureWarning: Passing literal html to 'read_html' is deprecated and will be removed in a future version. To read from a literal string, wrap it in a 'StringIO' object.\n",
      "  df = pd.read_html(res.text)[3]\n",
      "/Users/edward/Library/CloudStorage/OneDrive-Personal/GitHub/ccClub/Project/Testmodule/綜合損益表.py:11: FutureWarning: Passing literal html to 'read_html' is deprecated and will be removed in a future version. To read from a literal string, wrap it in a 'StringIO' object.\n",
      "  df = pd.read_html(res.text)[3]\n",
      "/Users/edward/Library/CloudStorage/OneDrive-Personal/GitHub/ccClub/Project/Testmodule/綜合損益表.py:11: FutureWarning: Passing literal html to 'read_html' is deprecated and will be removed in a future version. To read from a literal string, wrap it in a 'StringIO' object.\n",
      "  df = pd.read_html(res.text)[3]\n",
      "/Users/edward/Library/CloudStorage/OneDrive-Personal/GitHub/ccClub/Project/Testmodule/綜合損益表.py:11: FutureWarning: Passing literal html to 'read_html' is deprecated and will be removed in a future version. To read from a literal string, wrap it in a 'StringIO' object.\n",
      "  df = pd.read_html(res.text)[3]\n",
      "/Users/edward/Library/CloudStorage/OneDrive-Personal/GitHub/ccClub/Project/Testmodule/資產負債表.py:11: FutureWarning: Passing literal html to 'read_html' is deprecated and will be removed in a future version. To read from a literal string, wrap it in a 'StringIO' object.\n",
      "  df = pd.read_html(res.text)[3]\n",
      "/Users/edward/Library/CloudStorage/OneDrive-Personal/GitHub/ccClub/Project/Testmodule/資產負債表.py:11: FutureWarning: Passing literal html to 'read_html' is deprecated and will be removed in a future version. To read from a literal string, wrap it in a 'StringIO' object.\n",
      "  df = pd.read_html(res.text)[3]\n",
      "/Users/edward/Library/CloudStorage/OneDrive-Personal/GitHub/ccClub/Project/Testmodule/資產負債表.py:11: FutureWarning: Passing literal html to 'read_html' is deprecated and will be removed in a future version. To read from a literal string, wrap it in a 'StringIO' object.\n",
      "  df = pd.read_html(res.text)[3]\n",
      "/Users/edward/Library/CloudStorage/OneDrive-Personal/GitHub/ccClub/Project/Testmodule/資產負債表.py:11: FutureWarning: Passing literal html to 'read_html' is deprecated and will be removed in a future version. To read from a literal string, wrap it in a 'StringIO' object.\n",
      "  df = pd.read_html(res.text)[3]\n",
      "/Users/edward/Library/CloudStorage/OneDrive-Personal/GitHub/ccClub/Project/Testmodule/資產負債表.py:11: FutureWarning: Passing literal html to 'read_html' is deprecated and will be removed in a future version. To read from a literal string, wrap it in a 'StringIO' object.\n",
      "  df = pd.read_html(res.text)[3]\n"
     ]
    }
   ],
   "source": [
    "import pandas as pd\n",
    "from Testmodule import 資產負債表, 綜合損益表\n",
    "\n",
    "user_year = int(input('請輸入西元年份'))\n",
    "user_quarter = int(input('請輸入上個季度'))\n",
    "\n",
    "data1 = 綜合損益表.綜合損益表by季(user_year, user_quarter)\n",
    "data2 = 資產負債表.資產負債表by季(user_year, user_quarter)\n",
    "\n",
    "resultdf=data1.merge(data2,on='Key',how='inner')\n",
    "\n",
    "project = {}\n",
    "project['公司代號'] = resultdf['公司 代號_x']\n",
    "project['公司名稱'] = resultdf['公司名稱_x']\n",
    "project['年度'] = resultdf['年度_x']\n",
    "project['季別'] = resultdf['季別_x']\n",
    "project['基本每股盈餘_EPS'] = resultdf['基本每股盈餘（元）'] #EPS\n",
    "project['營業收入'] = resultdf['營業收入']\n",
    "project['權益總計'] = resultdf['權益總計'] #股東權益\n",
    "project['資產總計'] = resultdf['資產總計'] #資產總額\n",
    "\n",
    "project = pd.DataFrame(project)\n",
    "\n",
    "#test"
   ]
  }
 ],
 "metadata": {
  "kernelspec": {
   "display_name": "Python 3",
   "language": "python",
   "name": "python3"
  },
  "language_info": {
   "codemirror_mode": {
    "name": "ipython",
    "version": 3
   },
   "file_extension": ".py",
   "mimetype": "text/x-python",
   "name": "python",
   "nbconvert_exporter": "python",
   "pygments_lexer": "ipython3",
   "version": "3.12.0"
  }
 },
 "nbformat": 4,
 "nbformat_minor": 2
}
